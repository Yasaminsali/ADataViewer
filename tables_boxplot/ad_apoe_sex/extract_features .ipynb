{
 "cells": [
  {
   "cell_type": "markdown",
   "metadata": {},
   "source": [
    "## Imports"
   ]
  },
  {
   "cell_type": "code",
   "execution_count": 1,
   "metadata": {},
   "outputs": [],
   "source": [
    "from statistics import mean\n",
    "import numpy as np\n",
    "import pandas as pd \n",
    "import math\n",
    "from collections import Counter\n",
    "from random import sample\n",
    "import os\n",
    "import glob\n",
    "import copy"
   ]
  },
  {
   "cell_type": "markdown",
   "metadata": {},
   "source": [
    "## Read CSV Files"
   ]
  },
  {
   "cell_type": "code",
   "execution_count": 2,
   "metadata": {},
   "outputs": [],
   "source": [
    "dataframes = [pd.read_csv(file, sep=',', index_col=0) for file in sorted(glob.glob('../../preprocessed_datasets' + \"/*.\"+'csv'))]\n",
    "cohorts = [file.strip(\".csv\") for file in sorted(os.listdir('../../preprocessed_datasets'))]"
   ]
  },
  {
   "cell_type": "code",
   "execution_count": 3,
   "metadata": {},
   "outputs": [],
   "source": [
    "# reduce to BL visit and AD participants only\n",
    "all_cohorts = dict()\n",
    "for name, df in zip(cohorts, dataframes):\n",
    "    all_cohorts[name] = df.loc[(df[\"Visit\"]==1) & (df[\"Diagnosis\"].astype(str)=='AD')].copy()\n",
    "    \n",
    "# convert the value type to float to keep it unified\n",
    "for i in all_cohorts:\n",
    "    all_cohorts[i]['APOE4'] = all_cohorts[i]['APOE4'].astype(float)"
   ]
  },
  {
   "cell_type": "markdown",
   "metadata": {},
   "source": [
    "## Functions to Perform Essential Tasks"
   ]
  },
  {
   "cell_type": "code",
   "execution_count": 4,
   "metadata": {},
   "outputs": [],
   "source": [
    "def extract_features(df_dict, result_dict):\n",
    "    \"\"\"make a dictionary containing feature-dataframe and store the number of participants for each \n",
    "    type of measurements.\"\"\"\n",
    "    \n",
    "    for feature in result_dict:\n",
    "        if feature=='Sex':\n",
    "\n",
    "            for cohort in df_dict:\n",
    "                df = df_dict[cohort]\n",
    "\n",
    "                if feature in df.dropna(axis=1, how='all').columns:\n",
    "\n",
    "                    # for each type of measurments, store the number of participants\n",
    "                    for i in result_dict[feature].columns:\n",
    "                        result_dict[feature].loc[cohort, i] = len(df.loc[df[feature]==i].index.unique())\n",
    "                        \n",
    "        else :\n",
    "\n",
    "            for cohort in df_dict:\n",
    "                df = df_dict[cohort]\n",
    "\n",
    "                if feature in df.dropna(axis=1, how='all').columns:\n",
    "\n",
    "                    # for each type of measurments, store the number of participants\n",
    "                    for i in result_dict[feature].columns:\n",
    "                        result_dict[feature].loc[cohort, i] = len(df.loc[df[feature]==float(i)].index.unique())\n",
    "                        \n",
    "        # drop the cohorts that did not collect the features \n",
    "        result_dict[feature].dropna(axis=0, how='all', inplace=True)"
   ]
  },
  {
   "cell_type": "markdown",
   "metadata": {},
   "source": [
    "### Results"
   ]
  },
  {
   "cell_type": "code",
   "execution_count": 5,
   "metadata": {},
   "outputs": [],
   "source": [
    "# a dictionary of dictionaries for storing the results\n",
    "result = dict()\n",
    "result['Sex'] = pd.DataFrame(index=all_cohorts.keys(), columns=['Female', 'Male'])\n",
    "result['APOE4'] = pd.DataFrame(index=all_cohorts.keys(), columns=['0.0', '1.0', '2.0'])\n",
    "result['CDR'] = pd.DataFrame(index=all_cohorts.keys(), columns=[0.0, 0.5, 1.0, 2.0, 3.0])\n",
    "\n",
    "# call the function to extract the number of participant for each feature for each type of measurement\n",
    "extract_features(all_cohorts, result)"
   ]
  },
  {
   "cell_type": "code",
   "execution_count": 6,
   "metadata": {},
   "outputs": [],
   "source": [
    "sex = result['Sex']\n",
    "del result['Sex']\n",
    "result['Biological Sex'] = sex"
   ]
  },
  {
   "cell_type": "markdown",
   "metadata": {},
   "source": [
    "### Save the results into tsv files"
   ]
  },
  {
   "cell_type": "code",
   "execution_count": 7,
   "metadata": {},
   "outputs": [],
   "source": [
    "#convert each feature dictionary into a dataframe and save it as csv file \n",
    "for feature in result:\n",
    "    result[feature].index.name = 'Participant number'\n",
    "    result[feature].to_csv(f\"{feature}.tsv\", sep='\\t', index_label='Participant number')"
   ]
  }
 ],
 "metadata": {
  "kernelspec": {
   "display_name": "Python 3",
   "language": "python",
   "name": "python3"
  },
  "language_info": {
   "codemirror_mode": {
    "name": "ipython",
    "version": 3
   },
   "file_extension": ".py",
   "mimetype": "text/x-python",
   "name": "python",
   "nbconvert_exporter": "python",
   "pygments_lexer": "ipython3",
   "version": "3.9.7"
  }
 },
 "nbformat": 4,
 "nbformat_minor": 2
}
