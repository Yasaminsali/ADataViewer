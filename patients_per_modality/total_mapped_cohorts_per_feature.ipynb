{
 "cells": [
  {
   "cell_type": "markdown",
   "metadata": {},
   "source": [
    "### Imports"
   ]
  },
  {
   "cell_type": "code",
   "execution_count": 1,
   "metadata": {},
   "outputs": [],
   "source": [
    "import numpy as np\n",
    "import pandas as pd \n",
    "from collections import Counter\n",
    "import os\n",
    "import glob\n",
    "import copy"
   ]
  },
  {
   "cell_type": "code",
   "execution_count": 2,
   "metadata": {},
   "outputs": [],
   "source": [
    "dataframes = [pd.read_csv(file, sep='\\t') for file in sorted(glob.glob('feature_availability_in_cohorts/' + \"/*.\"+'tsv'))]\n",
    "modalities = [file.split(\".\")[0] for file in sorted(os.listdir('feature_availability_in_cohorts/'))]"
   ]
  },
  {
   "cell_type": "code",
   "execution_count": 3,
   "metadata": {},
   "outputs": [],
   "source": [
    "# make a dictionary that contains all modalities as a dataframe\n",
    "all_mappings = dict()\n",
    "\n",
    "for modal, df in zip(modalities, dataframes):\n",
    "    all_mappings[modal] = df\n",
    "    \n",
    "# remove the only irrelevant table that was in the same folder     \n",
    "del all_mappings['nonexistence_features']"
   ]
  },
  {
   "cell_type": "markdown",
   "metadata": {},
   "source": [
    "### Count the number of mapped feature per cohort study\n",
    "#### Count the ones that exist in the dataframe. If the score is 1, it indicates that the measurements were reported in the dataset. However, rake 0 indicates that the measurements were not collected."
   ]
  },
  {
   "cell_type": "code",
   "execution_count": 4,
   "metadata": {},
   "outputs": [],
   "source": [
    "for moda in all_mappings:\n",
    "    all_mappings[moda] = all_mappings[moda].set_index(\"Feature\")"
   ]
  },
  {
   "cell_type": "code",
   "execution_count": 5,
   "metadata": {},
   "outputs": [],
   "source": [
    "# make a dictionary to store the result, keys are table names and values are dataframes\n",
    "result = dict()\n",
    "\n",
    "# for each table, calculate the number of cohort that have the measurments (i.e. per feature)\n",
    "for i in all_mappings:\n",
    "    df = pd.DataFrame.from_dict(dict(all_mappings[i].eq(1).sum(axis=1)), orient='index', columns=['total'])\n",
    "    result[i] = df"
   ]
  },
  {
   "cell_type": "code",
   "execution_count": 6,
   "metadata": {},
   "outputs": [
    {
     "data": {
      "text/html": [
       "<div>\n",
       "<style scoped>\n",
       "    .dataframe tbody tr th:only-of-type {\n",
       "        vertical-align: middle;\n",
       "    }\n",
       "\n",
       "    .dataframe tbody tr th {\n",
       "        vertical-align: top;\n",
       "    }\n",
       "\n",
       "    .dataframe thead th {\n",
       "        text-align: right;\n",
       "    }\n",
       "</style>\n",
       "<table border=\"1\" class=\"dataframe\">\n",
       "  <thead>\n",
       "    <tr style=\"text-align: right;\">\n",
       "      <th></th>\n",
       "      <th>total</th>\n",
       "    </tr>\n",
       "  </thead>\n",
       "  <tbody>\n",
       "    <tr>\n",
       "      <th>Diagnosis</th>\n",
       "      <td>18</td>\n",
       "    </tr>\n",
       "    <tr>\n",
       "      <th>Clinical Dementia Rating (CDR)</th>\n",
       "      <td>17</td>\n",
       "    </tr>\n",
       "    <tr>\n",
       "      <th>Clinical Dementia Rating Scale Sum of Boxes (CDRSB)</th>\n",
       "      <td>8</td>\n",
       "    </tr>\n",
       "    <tr>\n",
       "      <th>Mini-Mental State Examination (MMSE)</th>\n",
       "      <td>17</td>\n",
       "    </tr>\n",
       "    <tr>\n",
       "      <th>Montreal Cognitive Assessment (MoCA)</th>\n",
       "      <td>5</td>\n",
       "    </tr>\n",
       "    <tr>\n",
       "      <th>Geriatric Depression Scale (GDS)</th>\n",
       "      <td>10</td>\n",
       "    </tr>\n",
       "    <tr>\n",
       "      <th>Alzheimer's Disease Assessment Scale 11-item (ADAS11)</th>\n",
       "      <td>5</td>\n",
       "    </tr>\n",
       "    <tr>\n",
       "      <th>Alzheimer’s Disease Assessment Scale 13-item (ADAS13)</th>\n",
       "      <td>4</td>\n",
       "    </tr>\n",
       "    <tr>\n",
       "      <th>Functional Activities Questionnaire (FAQ)</th>\n",
       "      <td>5</td>\n",
       "    </tr>\n",
       "    <tr>\n",
       "      <th>Neuropsychiatric Inventory (NPI)</th>\n",
       "      <td>3</td>\n",
       "    </tr>\n",
       "    <tr>\n",
       "      <th>Neuropsychiatric Inventory–Questionnaire (NPI-Q)</th>\n",
       "      <td>2</td>\n",
       "    </tr>\n",
       "    <tr>\n",
       "      <th>Alzheimer's Disease Cooperative Study - Activities of Daily Living (ADCS_ADL)</th>\n",
       "      <td>1</td>\n",
       "    </tr>\n",
       "    <tr>\n",
       "      <th>Boston Naming Test (BNT)</th>\n",
       "      <td>10</td>\n",
       "    </tr>\n",
       "    <tr>\n",
       "      <th>Hospital Anxiety and Depression Scale (HADs) (Depression)</th>\n",
       "      <td>1</td>\n",
       "    </tr>\n",
       "    <tr>\n",
       "      <th>Hospital Anxiety and Depression Scale (HADs) (Anxiety)</th>\n",
       "      <td>1</td>\n",
       "    </tr>\n",
       "    <tr>\n",
       "      <th>Rey Complex Figure Test and Recognition Trial (RCFT)</th>\n",
       "      <td>2</td>\n",
       "    </tr>\n",
       "    <tr>\n",
       "      <th>Repeatable Battery for the Assessment of Neuropsychological Status (RBANS)</th>\n",
       "      <td>2</td>\n",
       "    </tr>\n",
       "    <tr>\n",
       "      <th>FLANKER Task</th>\n",
       "      <td>1</td>\n",
       "    </tr>\n",
       "    <tr>\n",
       "      <th>Pittsburgh Sleep Quality Index (PSQI)</th>\n",
       "      <td>1</td>\n",
       "    </tr>\n",
       "    <tr>\n",
       "      <th>Dot Counting (DCT)</th>\n",
       "      <td>2</td>\n",
       "    </tr>\n",
       "  </tbody>\n",
       "</table>\n",
       "</div>"
      ],
      "text/plain": [
       "                                                    total\n",
       "Diagnosis                                              18\n",
       "Clinical Dementia Rating (CDR)                         17\n",
       "Clinical Dementia Rating Scale Sum of Boxes (CD...      8\n",
       "Mini-Mental State Examination (MMSE)                   17\n",
       "Montreal Cognitive Assessment (MoCA)                    5\n",
       "Geriatric Depression Scale (GDS)                       10\n",
       "Alzheimer's Disease Assessment Scale 11-item (A...      5\n",
       "Alzheimer’s Disease Assessment Scale 13-item (A...      4\n",
       "Functional Activities Questionnaire (FAQ)               5\n",
       "Neuropsychiatric Inventory (NPI)                        3\n",
       "Neuropsychiatric Inventory–Questionnaire (NPI-Q)        2\n",
       "Alzheimer's Disease Cooperative Study - Activit...      1\n",
       "Boston Naming Test (BNT)                               10\n",
       "Hospital Anxiety and Depression Scale (HADs) (D...      1\n",
       "Hospital Anxiety and Depression Scale (HADs) (A...      1\n",
       "Rey Complex Figure Test and Recognition Trial (...      2\n",
       "Repeatable Battery for the Assessment of Neurop...      2\n",
       "FLANKER Task                                            1\n",
       "Pittsburgh Sleep Quality Index (PSQI)                   1\n",
       "Dot Counting (DCT)                                      2"
      ]
     },
     "execution_count": 6,
     "metadata": {},
     "output_type": "execute_result"
    }
   ],
   "source": [
    "result['clinical_i']"
   ]
  },
  {
   "cell_type": "markdown",
   "metadata": {},
   "source": [
    "### Save to tsv"
   ]
  },
  {
   "cell_type": "code",
   "execution_count": 7,
   "metadata": {},
   "outputs": [],
   "source": [
    "for modal in result:\n",
    "    result[modal].to_csv(\"num_mapped_feat_total/\" + f\"{modal}.tsv\", sep='\\t')"
   ]
  }
 ],
 "metadata": {
  "kernelspec": {
   "display_name": "Python 3",
   "language": "python",
   "name": "python3"
  },
  "language_info": {
   "codemirror_mode": {
    "name": "ipython",
    "version": 3
   },
   "file_extension": ".py",
   "mimetype": "text/x-python",
   "name": "python",
   "nbconvert_exporter": "python",
   "pygments_lexer": "ipython3",
   "version": "3.9.5"
  }
 },
 "nbformat": 4,
 "nbformat_minor": 4
}
